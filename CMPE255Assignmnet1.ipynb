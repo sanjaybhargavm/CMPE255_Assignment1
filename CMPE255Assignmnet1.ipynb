{
  "nbformat": 4,
  "nbformat_minor": 0,
  "metadata": {
    "colab": {
      "provenance": []
    },
    "kernelspec": {
      "name": "python3",
      "display_name": "Python 3"
    },
    "language_info": {
      "name": "python"
    }
  },
  "cells": [
    {
      "cell_type": "code",
      "execution_count": null,
      "metadata": {
        "colab": {
          "base_uri": "https://localhost:8080/"
        },
        "id": "Zb13bihCjaN-",
        "outputId": "dfd2b2ab-f5f9-4e8b-f4e6-51758b69a401"
      },
      "outputs": [
        {
          "output_type": "stream",
          "name": "stdout",
          "text": [
            " Hello World \n",
            " Sanjay \n"
          ]
        }
      ],
      "source": [
        "print ( \" Hello World \" )\n",
        "name = \" Sanjay \"\n",
        "print ( name )\n"
      ]
    },
    {
      "cell_type": "code",
      "source": [
        "print ( \" 5 + 2 = \" , 5 + 2 )\n",
        "print ( \" 5 - 2 = \" , 5-2 )\n",
        "print ( \" 5*2 \" , 5 * 2 )\n",
        "print ( \" 5 / 2 = \" , 5/2 )\n",
        "print ( \" 5 % 2 = \" , 5 % 2 )\n",
        "print ( \" 5 ** 2 = \" , 5 ** 2 )\n",
        "print ( \" 5 // 2 = \" , 5 // 2 )\n",
        "print ( \" 1 + 2 - 3 * 2 = \" ,1 + 2 - 3 * 2 )\n"
      ],
      "metadata": {
        "colab": {
          "base_uri": "https://localhost:8080/"
        },
        "id": "_izD4yQ4kJph",
        "outputId": "fed1b5e6-c480-4471-8df7-144282836a18"
      },
      "execution_count": null,
      "outputs": [
        {
          "output_type": "stream",
          "name": "stdout",
          "text": [
            " 5 + 2 =  7\n",
            " 5 - 2 =  3\n",
            " 5*2  10\n",
            " 5 / 2 =  2.5\n",
            " 5 % 2 =  1\n",
            " 5 ** 2 =  25\n",
            " 5 // 2 =  2\n",
            " 1 + 2 - 3 * 2 =  -3\n"
          ]
        }
      ]
    },
    {
      "cell_type": "code",
      "source": [
        "quote =\"\\\" Always remember you are unique \"\n",
        "multi_line_quote = ''' just \n",
        "like everyone else '''\n",
        "print ( \" % s % s % s \" % ( ' I like the quote ' , quote , multi_line_quote))\n",
        "print ( ' \\ n ' * 5 )\n",
        "print ( \" I don't like \" , end = \" \" )\n",
        "print ( \" newlines \" )"
      ],
      "metadata": {
        "colab": {
          "base_uri": "https://localhost:8080/"
        },
        "id": "Y-DoNgxpkJ3W",
        "outputId": "17780944-aa5c-41c4-f8d3-bc1fc5fd5d6e"
      },
      "execution_count": null,
      "outputs": [
        {
          "output_type": "stream",
          "name": "stdout",
          "text": [
            "  I like the quote  \" Always remember you are unique   just \n",
            "like everyone else  \n",
            " \\ n  \\ n  \\ n  \\ n  \\ n \n",
            " I don't like   newlines \n"
          ]
        }
      ]
    },
    {
      "cell_type": "code",
      "source": [
        "grocery_list = [ ' Juice ' , ' Tomatoes ' , ' Potatoes ' ,\n",
        "                ' Bananas ' ]\n",
        "print ( ' First Item ' , grocery_list [ 0 ] )\n",
        "grocery_list [ 0 ] = \" Green Juice \"\n",
        "print ( ' First Item ' , grocery_list [ 0 ] )\n",
        "print ( grocery_list [ 1 : 3 ] )\n",
        "other_events = [ ' Wash Car ' , ' Pick Up Kids ' ,\n",
        "                ' Cash Check ' ]\n",
        "to_do_list = [ other_events , grocery_list ]\n",
        "print ( to_do_list )\n",
        "print ( ( to_do_list [ 1 ] [ 1 ] ) )\n",
        "grocery_list.append ( ' Onions ' )\n",
        "print ( to_do_list )\n",
        "grocery_list.insert ( 1 , \" Pickle \" )\n",
        "grocery_list.remove ( \" Pickle \" )\n",
        "grocery_list.sort ( )\n",
        "grocery_list.reverse ( )\n",
        "del grocery_list [ 4 ]\n",
        "print ( to_do_list )\n",
        "to_do_list2 = other_events + grocery_list\n",
        "print ( len( to_do_list2 ) )\n",
        "print ( max( to_do_list2 ) )\n",
        "print ( min(to_do_list2 ) )"
      ],
      "metadata": {
        "colab": {
          "base_uri": "https://localhost:8080/"
        },
        "id": "3VD00SbDkKA_",
        "outputId": "ade9e9c5-f61e-4e82-f4d5-e94c567465a1"
      },
      "execution_count": null,
      "outputs": [
        {
          "output_type": "stream",
          "name": "stdout",
          "text": [
            " First Item   Juice \n",
            " First Item   Green Juice \n",
            "[' Tomatoes ', ' Potatoes ']\n",
            "[[' Wash Car ', ' Pick Up Kids ', ' Cash Check '], [' Green Juice ', ' Tomatoes ', ' Potatoes ', ' Bananas ']]\n",
            " Tomatoes \n",
            "[[' Wash Car ', ' Pick Up Kids ', ' Cash Check '], [' Green Juice ', ' Tomatoes ', ' Potatoes ', ' Bananas ', ' Onions ']]\n",
            "[[' Wash Car ', ' Pick Up Kids ', ' Cash Check '], [' Tomatoes ', ' Potatoes ', ' Onions ', ' Green Juice ']]\n",
            "7\n",
            " Wash Car \n",
            " Cash Check \n"
          ]
        }
      ]
    },
    {
      "cell_type": "code",
      "source": [
        "pi_tuple = ( 3,1,4,1,5,9 )\n",
        "new_tuple_list= ( pi_tuple )\n",
        "new_list = tuple ( new_tuple_list)\n",
        "\n",
        "\n",
        "super_villains = { ' Fiddler ' : ' Isaac Bowin ' ,\n",
        "                  ' Captain Cold ' : ' Leonard Snart ' ,\n",
        "                  ' Weather Wizard ' : ' Mark Mardon ' ,\n",
        "                  ' Mirror Master ' : ' Sam Scudder ' ,\n",
        "                  ' Pied Piper Thomas' : ' Peterson ' }\n",
        "print ( super_villains [ ' Captain Cold ' ] )\n",
        "del super_villains [ ' Fiddler ' ]\n",
        "super_villains [ ' Pied Piper ' ] = ' Hartley Rathaway '\n",
        "                   \n",
        "print ( len ( super_villains ) )\n",
        "print ( super_villains.get ( \" Pied Piper \" ) )\n",
        "\n",
        "print ( super_villains.keys ( ) )\n",
        "print ( super_villains.values ( ) )"
      ],
      "metadata": {
        "colab": {
          "base_uri": "https://localhost:8080/"
        },
        "id": "E-zd5oAKkKJE",
        "outputId": "41d1c558-05e6-4c4d-94af-727dc1a36174"
      },
      "execution_count": null,
      "outputs": [
        {
          "output_type": "stream",
          "name": "stdout",
          "text": [
            " Leonard Snart \n",
            "5\n",
            " Hartley Rathaway \n",
            "dict_keys([' Captain Cold ', ' Weather Wizard ', ' Mirror Master ', ' Pied Piper Thomas', ' Pied Piper '])\n",
            "dict_values([' Leonard Snart ', ' Mark Mardon ', ' Sam Scudder ', ' Peterson ', ' Hartley Rathaway '])\n"
          ]
        }
      ]
    },
    {
      "cell_type": "code",
      "source": [
        "age = 21\n",
        "if age > 16 :\n",
        "    print ( ' You are old enough to drive ' )\n",
        "    \n",
        "else :\n",
        "      print ( ' You are not old enough to drive ' )\n",
        "if age >= 21 :\n",
        "    print ( ' You are old enough to drive a tractor' )\n",
        "elif age >= 16 :\n",
        "    print ( ' You are old enough to drive a car ' )\n",
        "else : print ( \" You are not old enough to drive \" ) \n",
        "\n",
        "if ( ( age >= 1 ) and ( age <= 18 ) ) :\n",
        "    print ( \" You get a birthday \" )\n",
        "elif ( age == 21 ) or ( age >= 65 ) :\n",
        "    print ( \" You get a birthday \" )\n",
        "elif not ( age == 30 ) :\n",
        "   print ( \" You don't get a birthday \" )\n",
        "else :\n",
        "    print ( \" You get a birthday party yeah \" )"
      ],
      "metadata": {
        "colab": {
          "base_uri": "https://localhost:8080/"
        },
        "id": "pI-pCivfkKOA",
        "outputId": "3715f82c-7e3b-48e4-99ac-992d0c1e61f7"
      },
      "execution_count": null,
      "outputs": [
        {
          "output_type": "stream",
          "name": "stdout",
          "text": [
            " You are old enough to drive \n",
            " You are old enough to drive a tractor\n",
            " You get a birthday \n"
          ]
        }
      ]
    },
    {
      "cell_type": "code",
      "source": [
        "for x in range ( 0 ,10 ) :\n",
        "    print ( x ,end = \" \" )\n",
        "print ( ' \\ n ' )\n",
        "grocery_list = [ ' Juice ' , ' Tomatoes ' , ' Potatoes ' ,\n",
        "                  ' Bananas ' ]\n",
        "for y in grocery_list :\n",
        "    print ( y )\n",
        "for x in [ 2,4,6,8,10 ] :\n",
        "    print ( x )\n",
        "num_list = [ [ 1,2,3 ] , [ 10,20,30 ] , [ 100 , 200 , 330 ] ]\n",
        "for x in range ( 0,3 ) :\n",
        "    for y in range ( 0,3 ) :\n",
        "        print ( num_list [ x ] [ y ] )"
      ],
      "metadata": {
        "colab": {
          "base_uri": "https://localhost:8080/"
        },
        "id": "kuBNS63WkKSM",
        "outputId": "cbeb9ef8-a619-417f-e9a5-1c1996ef4cce"
      },
      "execution_count": null,
      "outputs": [
        {
          "output_type": "stream",
          "name": "stdout",
          "text": [
            "0 1 2 3 4 5 6 7 8 9  \\ n \n",
            " Juice \n",
            " Tomatoes \n",
            " Potatoes \n",
            " Bananas \n",
            "2\n",
            "4\n",
            "6\n",
            "8\n",
            "10\n",
            "1\n",
            "2\n",
            "3\n",
            "10\n",
            "20\n",
            "30\n",
            "100\n",
            "200\n",
            "330\n"
          ]
        }
      ]
    },
    {
      "cell_type": "code",
      "source": [
        "import random\n",
        "random_num = random.randrange ( 0 , 100 )\n",
        "while ( random_num != 15 ) :\n",
        "   print ( random_num )\n",
        "   random_num = random.randrange ( 0 , 100 )\n",
        "i = 0 ;\n",
        "while ( i <= 20 ) :\n",
        "   if ( i % 2 == 0 ) :\n",
        "       print ( i )\n",
        "   elif ( i == 9 ) :\n",
        "       break\n",
        "   else :\n",
        "        i+= 1\n",
        "        continue\n",
        "   i+=1"
      ],
      "metadata": {
        "colab": {
          "base_uri": "https://localhost:8080/"
        },
        "id": "BVJtGQDflvvC",
        "outputId": "aa571b65-6139-4b1c-a412-06e804761b0d"
      },
      "execution_count": null,
      "outputs": [
        {
          "output_type": "stream",
          "name": "stdout",
          "text": [
            "97\n",
            "63\n",
            "31\n",
            "94\n",
            "50\n",
            "67\n",
            "84\n",
            "0\n",
            "75\n",
            "68\n",
            "29\n",
            "1\n",
            "14\n",
            "66\n",
            "96\n",
            "70\n",
            "29\n",
            "85\n",
            "52\n",
            "56\n",
            "86\n",
            "55\n",
            "87\n",
            "16\n",
            "86\n",
            "83\n",
            "31\n",
            "82\n",
            "24\n",
            "7\n",
            "88\n",
            "62\n",
            "44\n",
            "60\n",
            "76\n",
            "5\n",
            "18\n",
            "22\n",
            "83\n",
            "33\n",
            "89\n",
            "35\n",
            "37\n",
            "61\n",
            "37\n",
            "3\n",
            "62\n",
            "40\n",
            "10\n",
            "23\n",
            "87\n",
            "0\n",
            "72\n",
            "72\n",
            "37\n",
            "88\n",
            "81\n",
            "61\n",
            "17\n",
            "45\n",
            "0\n",
            "69\n",
            "23\n",
            "39\n",
            "13\n",
            "30\n",
            "72\n",
            "54\n",
            "91\n",
            "74\n",
            "68\n",
            "67\n",
            "33\n",
            "51\n",
            "41\n",
            "19\n",
            "93\n",
            "24\n",
            "43\n",
            "96\n",
            "71\n",
            "83\n",
            "38\n",
            "34\n",
            "99\n",
            "23\n",
            "27\n",
            "75\n",
            "4\n",
            "39\n",
            "0\n",
            "96\n",
            "61\n",
            "57\n",
            "42\n",
            "18\n",
            "12\n",
            "73\n",
            "17\n",
            "93\n",
            "52\n",
            "28\n",
            "12\n",
            "92\n",
            "72\n",
            "74\n",
            "14\n",
            "57\n",
            "88\n",
            "58\n",
            "12\n",
            "43\n",
            "29\n",
            "96\n",
            "89\n",
            "1\n",
            "22\n",
            "95\n",
            "54\n",
            "26\n",
            "6\n",
            "80\n",
            "57\n",
            "61\n",
            "19\n",
            "58\n",
            "29\n",
            "95\n",
            "59\n",
            "20\n",
            "95\n",
            "7\n",
            "55\n",
            "3\n",
            "57\n",
            "59\n",
            "60\n",
            "41\n",
            "16\n",
            "47\n",
            "40\n",
            "66\n",
            "11\n",
            "65\n",
            "45\n",
            "98\n",
            "48\n",
            "94\n",
            "2\n",
            "77\n",
            "93\n",
            "84\n",
            "79\n",
            "66\n",
            "1\n",
            "88\n",
            "39\n",
            "8\n",
            "62\n",
            "92\n",
            "90\n",
            "20\n",
            "58\n",
            "72\n",
            "73\n",
            "68\n",
            "47\n",
            "48\n",
            "17\n",
            "35\n",
            "50\n",
            "35\n",
            "62\n",
            "59\n",
            "21\n",
            "1\n",
            "84\n",
            "68\n",
            "43\n",
            "9\n",
            "0\n",
            "2\n",
            "4\n",
            "6\n",
            "8\n"
          ]
        }
      ]
    },
    {
      "cell_type": "code",
      "source": [
        "long_string =\" I'll catch you if you fall -The Floor \"\n",
        "print ( long_string.capitalize ( ) )\n",
        "print ( long_string.find ( \" Floor \" ) )\n",
        "print ( long_string.isalpha ( ) )\n",
        "print ( long_string.isalnum ( ) )\n",
        "print ( len ( long_string ) )\n",
        "print ( long_string.replace ( \" Floor \" , \" Ground \" ) )\n",
        "print ( long_string.strip ( ) )\n",
        "quote_list =long_string.split ( \" \" )"
      ],
      "metadata": {
        "colab": {
          "base_uri": "https://localhost:8080/"
        },
        "id": "IF9cW_zXmDhS",
        "outputId": "edf87ee8-ad2d-462b-9ddc-6ed551eeb685"
      },
      "execution_count": null,
      "outputs": [
        {
          "output_type": "stream",
          "name": "stdout",
          "text": [
            " i'll catch you if you fall -the floor \n",
            "32\n",
            "False\n",
            "False\n",
            "39\n",
            " I'll catch you if you fall -The Ground \n",
            "I'll catch you if you fall -The Floor\n"
          ]
        }
      ]
    },
    {
      "cell_type": "code",
      "source": [
        "class Snake:\n",
        "\n",
        "    def __init__(self, name):\n",
        "        self.name = name\n",
        "\n",
        "    def change_name(self, new_name):\n",
        "        self.name = new_name\n",
        "\n",
        "\n",
        "python = Snake(\"python\")\n",
        "anaconda = Snake(\"anaconda\")\n",
        "\n",
        "print(python.name)\n",
        "print(anaconda.name)"
      ],
      "metadata": {
        "colab": {
          "base_uri": "https://localhost:8080/"
        },
        "id": "Zo2tTbzOmTC5",
        "outputId": "0d287a3e-9a7a-4ba8-bc1a-115cdea83ffc"
      },
      "execution_count": null,
      "outputs": [
        {
          "output_type": "stream",
          "name": "stdout",
          "text": [
            "python\n",
            "anaconda\n"
          ]
        }
      ]
    }
  ]
}